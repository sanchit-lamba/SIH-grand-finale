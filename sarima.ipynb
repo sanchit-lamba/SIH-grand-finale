{
 "cells": [
  {
   "metadata": {
    "ExecuteTime": {
     "end_time": "2024-12-12T00:26:49.150882Z",
     "start_time": "2024-12-12T00:26:43.853511Z"
    }
   },
   "cell_type": "code",
   "source": [
    "import pandas as pd\n",
    "import numpy as np\n",
    "from statsmodels.tsa.statespace.sarimax import SARIMAX\n",
    "from datetime import datetime"
   ],
   "id": "94ed4f10d6fce3dd",
   "outputs": [],
   "execution_count": 1
  },
  {
   "metadata": {
    "ExecuteTime": {
     "end_time": "2024-12-12T00:27:14.160151Z",
     "start_time": "2024-12-12T00:26:49.167370Z"
    }
   },
   "cell_type": "code",
   "source": [
    "file_path = \"Book4.xlsx\"\n",
    "df = pd.read_excel(file_path)"
   ],
   "id": "8c24b7afbea3a18e",
   "outputs": [],
   "execution_count": 2
  },
  {
   "metadata": {
    "ExecuteTime": {
     "end_time": "2024-12-12T00:27:32.981522Z",
     "start_time": "2024-12-12T00:27:14.633452Z"
    }
   },
   "cell_type": "code",
   "source": [
    "df['DateTime'] = pd.to_datetime(df['Date'].astype(str) + ' ' + df['TIMESLOT'].astype(str) , format='DD/MM/YYYY')\n",
    "df.asfreq('5T')"
   ],
   "id": "d7de575a5fe2dde8",
   "outputs": [
    {
     "name": "stderr",
     "output_type": "stream",
     "text": [
      "C:\\Users\\Sanchit\\AppData\\Local\\Temp\\ipykernel_18624\\1734016011.py:3: FutureWarning: 'T' is deprecated and will be removed in a future version, please use 'min' instead.\n",
      "  df.asfreq('5T')\n"
     ]
    },
    {
     "data": {
      "text/plain": [
       "                     TIMESLOT    DELHI     BRPL    BYPL    NDPL    NDMC  \\\n",
       "DateTime                                                                  \n",
       "2021-01-01 00:00:00  00:00:00  2318.54   973.49  452.98  711.43  129.75   \n",
       "2021-01-01 00:05:00  00:05:00  2238.05   933.48  420.41  702.30  131.75   \n",
       "2021-01-01 00:10:00  00:10:00  2192.71   925.58  404.30  680.26  134.17   \n",
       "2021-01-01 00:15:00  00:15:00  2158.28   908.45  404.75  662.20  133.95   \n",
       "2021-01-01 00:20:00  00:20:00  2046.05   793.02  409.20  664.50  131.94   \n",
       "...                       ...      ...      ...     ...     ...     ...   \n",
       "2024-12-11 22:20:00  22:20:00  3159.38  1388.72  667.26  941.52  117.81   \n",
       "2024-12-11 22:25:00  22:25:00  3152.87  1379.12  682.69  927.29  120.08   \n",
       "2024-12-11 22:30:00  22:30:00  3119.45  1371.69  652.06  918.50  130.66   \n",
       "2024-12-11 22:35:00  22:35:00  3155.78  1379.37  676.83  931.76  124.25   \n",
       "2024-12-11 22:40:00  22:40:00  3123.98  1356.10  669.08  935.90  116.01   \n",
       "\n",
       "                       MES        Date  \n",
       "DateTime                                \n",
       "2021-01-01 00:00:00  28.74  01/01/2021  \n",
       "2021-01-01 00:05:00  28.40  01/01/2021  \n",
       "2021-01-01 00:10:00  27.69  01/01/2021  \n",
       "2021-01-01 00:15:00  27.36  01/01/2021  \n",
       "2021-01-01 00:20:00  27.41  01/01/2021  \n",
       "...                    ...         ...  \n",
       "2024-12-11 22:20:00  15.43  12/11/2024  \n",
       "2024-12-11 22:25:00  15.36  12/11/2024  \n",
       "2024-12-11 22:30:00  15.20  12/11/2024  \n",
       "2024-12-11 22:35:00  15.05  12/11/2024  \n",
       "2024-12-11 22:40:00  14.89  12/11/2024  \n",
       "\n",
       "[414993 rows x 8 columns]"
      ],
      "text/html": [
       "<div>\n",
       "<style scoped>\n",
       "    .dataframe tbody tr th:only-of-type {\n",
       "        vertical-align: middle;\n",
       "    }\n",
       "\n",
       "    .dataframe tbody tr th {\n",
       "        vertical-align: top;\n",
       "    }\n",
       "\n",
       "    .dataframe thead th {\n",
       "        text-align: right;\n",
       "    }\n",
       "</style>\n",
       "<table border=\"1\" class=\"dataframe\">\n",
       "  <thead>\n",
       "    <tr style=\"text-align: right;\">\n",
       "      <th></th>\n",
       "      <th>TIMESLOT</th>\n",
       "      <th>DELHI</th>\n",
       "      <th>BRPL</th>\n",
       "      <th>BYPL</th>\n",
       "      <th>NDPL</th>\n",
       "      <th>NDMC</th>\n",
       "      <th>MES</th>\n",
       "      <th>Date</th>\n",
       "    </tr>\n",
       "    <tr>\n",
       "      <th>DateTime</th>\n",
       "      <th></th>\n",
       "      <th></th>\n",
       "      <th></th>\n",
       "      <th></th>\n",
       "      <th></th>\n",
       "      <th></th>\n",
       "      <th></th>\n",
       "      <th></th>\n",
       "    </tr>\n",
       "  </thead>\n",
       "  <tbody>\n",
       "    <tr>\n",
       "      <th>2021-01-01 00:00:00</th>\n",
       "      <td>00:00:00</td>\n",
       "      <td>2318.54</td>\n",
       "      <td>973.49</td>\n",
       "      <td>452.98</td>\n",
       "      <td>711.43</td>\n",
       "      <td>129.75</td>\n",
       "      <td>28.74</td>\n",
       "      <td>01/01/2021</td>\n",
       "    </tr>\n",
       "    <tr>\n",
       "      <th>2021-01-01 00:05:00</th>\n",
       "      <td>00:05:00</td>\n",
       "      <td>2238.05</td>\n",
       "      <td>933.48</td>\n",
       "      <td>420.41</td>\n",
       "      <td>702.30</td>\n",
       "      <td>131.75</td>\n",
       "      <td>28.40</td>\n",
       "      <td>01/01/2021</td>\n",
       "    </tr>\n",
       "    <tr>\n",
       "      <th>2021-01-01 00:10:00</th>\n",
       "      <td>00:10:00</td>\n",
       "      <td>2192.71</td>\n",
       "      <td>925.58</td>\n",
       "      <td>404.30</td>\n",
       "      <td>680.26</td>\n",
       "      <td>134.17</td>\n",
       "      <td>27.69</td>\n",
       "      <td>01/01/2021</td>\n",
       "    </tr>\n",
       "    <tr>\n",
       "      <th>2021-01-01 00:15:00</th>\n",
       "      <td>00:15:00</td>\n",
       "      <td>2158.28</td>\n",
       "      <td>908.45</td>\n",
       "      <td>404.75</td>\n",
       "      <td>662.20</td>\n",
       "      <td>133.95</td>\n",
       "      <td>27.36</td>\n",
       "      <td>01/01/2021</td>\n",
       "    </tr>\n",
       "    <tr>\n",
       "      <th>2021-01-01 00:20:00</th>\n",
       "      <td>00:20:00</td>\n",
       "      <td>2046.05</td>\n",
       "      <td>793.02</td>\n",
       "      <td>409.20</td>\n",
       "      <td>664.50</td>\n",
       "      <td>131.94</td>\n",
       "      <td>27.41</td>\n",
       "      <td>01/01/2021</td>\n",
       "    </tr>\n",
       "    <tr>\n",
       "      <th>...</th>\n",
       "      <td>...</td>\n",
       "      <td>...</td>\n",
       "      <td>...</td>\n",
       "      <td>...</td>\n",
       "      <td>...</td>\n",
       "      <td>...</td>\n",
       "      <td>...</td>\n",
       "      <td>...</td>\n",
       "    </tr>\n",
       "    <tr>\n",
       "      <th>2024-12-11 22:20:00</th>\n",
       "      <td>22:20:00</td>\n",
       "      <td>3159.38</td>\n",
       "      <td>1388.72</td>\n",
       "      <td>667.26</td>\n",
       "      <td>941.52</td>\n",
       "      <td>117.81</td>\n",
       "      <td>15.43</td>\n",
       "      <td>12/11/2024</td>\n",
       "    </tr>\n",
       "    <tr>\n",
       "      <th>2024-12-11 22:25:00</th>\n",
       "      <td>22:25:00</td>\n",
       "      <td>3152.87</td>\n",
       "      <td>1379.12</td>\n",
       "      <td>682.69</td>\n",
       "      <td>927.29</td>\n",
       "      <td>120.08</td>\n",
       "      <td>15.36</td>\n",
       "      <td>12/11/2024</td>\n",
       "    </tr>\n",
       "    <tr>\n",
       "      <th>2024-12-11 22:30:00</th>\n",
       "      <td>22:30:00</td>\n",
       "      <td>3119.45</td>\n",
       "      <td>1371.69</td>\n",
       "      <td>652.06</td>\n",
       "      <td>918.50</td>\n",
       "      <td>130.66</td>\n",
       "      <td>15.20</td>\n",
       "      <td>12/11/2024</td>\n",
       "    </tr>\n",
       "    <tr>\n",
       "      <th>2024-12-11 22:35:00</th>\n",
       "      <td>22:35:00</td>\n",
       "      <td>3155.78</td>\n",
       "      <td>1379.37</td>\n",
       "      <td>676.83</td>\n",
       "      <td>931.76</td>\n",
       "      <td>124.25</td>\n",
       "      <td>15.05</td>\n",
       "      <td>12/11/2024</td>\n",
       "    </tr>\n",
       "    <tr>\n",
       "      <th>2024-12-11 22:40:00</th>\n",
       "      <td>22:40:00</td>\n",
       "      <td>3123.98</td>\n",
       "      <td>1356.10</td>\n",
       "      <td>669.08</td>\n",
       "      <td>935.90</td>\n",
       "      <td>116.01</td>\n",
       "      <td>14.89</td>\n",
       "      <td>12/11/2024</td>\n",
       "    </tr>\n",
       "  </tbody>\n",
       "</table>\n",
       "<p>414993 rows × 8 columns</p>\n",
       "</div>"
      ]
     },
     "execution_count": 3,
     "metadata": {},
     "output_type": "execute_result"
    }
   ],
   "execution_count": 3
  },
  {
   "metadata": {
    "ExecuteTime": {
     "end_time": "2024-12-12T00:27:33.033905Z",
     "start_time": "2024-12-12T00:27:33.000478Z"
    }
   },
   "cell_type": "code",
   "source": [
    "df.drop(columns=['Date', 'TIMESLOT'], inplace=True, errors='ignore')\n",
    "df.sort_index(inplace=True)"
   ],
   "id": "bc2ae49fdb4ad001",
   "outputs": [],
   "execution_count": 4
  },
  {
   "metadata": {
    "ExecuteTime": {
     "end_time": "2024-12-12T00:27:33.095085Z",
     "start_time": "2024-12-12T00:27:33.080135Z"
    }
   },
   "cell_type": "code",
   "source": [
    "start_test_date = \"2024-06-07\"\n",
    "end_test_date = \"2024-11-12\"\n",
    "\n",
    "train_df = df[df.index < start_test_date]\n",
    "test_df = df[(df.index >= start_test_date) & (df.index <= end_test_date)]"
   ],
   "id": "9b5ed9e25d8b5ad9",
   "outputs": [],
   "execution_count": 5
  },
  {
   "metadata": {
    "ExecuteTime": {
     "end_time": "2024-12-12T00:27:33.226340Z",
     "start_time": "2024-12-12T00:27:33.222758Z"
    }
   },
   "cell_type": "code",
   "source": [
    "def fit_and_forecast_sarima(train_series, test_series, order=(1,1,1), seasonal_order=(0,1,5,12)):\n",
    "    model = SARIMAX(train_series,\n",
    "                    order=order,\n",
    "                    seasonal_order=seasonal_order,\n",
    "                    enforce_stationarity=False,\n",
    "                    enforce_invertibility=False)\n",
    "    model_fit = model.fit(disp=False)\n",
    "    # Forecast the length of the test period\n",
    "    forecast_steps = len(test_series)\n",
    "    forecast = model_fit.forecast(steps=forecast_steps)\n",
    "    forecast.index = test_series.index  # Align forecast index with test_series\n",
    "    return forecast\n"
   ],
   "id": "4d2fbc0e2ac418ee",
   "outputs": [],
   "execution_count": 6
  },
  {
   "metadata": {
    "ExecuteTime": {
     "end_time": "2024-12-12T00:27:33.345580Z",
     "start_time": "2024-12-12T00:27:33.342843Z"
    }
   },
   "cell_type": "code",
   "source": [
    "columns_to_model = ['DELHI', 'BRPL', 'BYPL', 'NDPL', 'NDMC', 'MES']\n",
    "results = {}"
   ],
   "id": "7959b16246ffb206",
   "outputs": [],
   "execution_count": 7
  },
  {
   "metadata": {
    "ExecuteTime": {
     "end_time": "2024-12-12T00:27:33.463479Z",
     "start_time": "2024-12-12T00:27:33.404479Z"
    }
   },
   "cell_type": "code",
   "source": "df = df.resample('5T').mean()",
   "id": "6d31a1e166683844",
   "outputs": [
    {
     "name": "stderr",
     "output_type": "stream",
     "text": [
      "C:\\Users\\Sanchit\\AppData\\Local\\Temp\\ipykernel_18624\\1224181088.py:1: FutureWarning: 'T' is deprecated and will be removed in a future version, please use 'min' instead.\n",
      "  df = df.resample('5T').mean()\n"
     ]
    }
   ],
   "execution_count": 8
  },
  {
   "metadata": {
    "ExecuteTime": {
     "end_time": "2024-12-12T06:33:27.727298Z",
     "start_time": "2024-12-12T00:27:33.502278Z"
    }
   },
   "cell_type": "code",
   "source": [
    "for col in columns_to_model:\n",
    "    train_series = train_df[col].dropna()\n",
    "    test_series = test_df[col].dropna()\n",
    "\n",
    "    if train_series.empty or test_series.empty:\n",
    "        print(f\"Skipping {col} due to lack of data in train or test.\")\n",
    "        continue\n",
    "\n",
    "    # Fit and forecast SARIMA model\n",
    "    # Adjust orders after exploration (p,d,q,P,D,Q,m)\n",
    "    forecast = fit_and_forecast_sarima(train_series, test_series, order=(1,1,1), seasonal_order=(0,1,5,12))\n",
    "    print(\"done with one column\")\n",
    "    # Store results\n",
    "    results[col] = {\n",
    "        'actual': test_series,\n",
    "        'forecast': forecast\n",
    "    }"
   ],
   "id": "2462d7dad11cef93",
   "outputs": [
    {
     "name": "stderr",
     "output_type": "stream",
     "text": [
      "C:\\Users\\Sanchit\\AppData\\Local\\pypoetry\\Cache\\virtualenvs\\sih2-Xq_45JKi-py3.13\\Lib\\site-packages\\statsmodels\\tsa\\base\\tsa_model.py:473: ValueWarning: A date index has been provided, but it has no associated frequency information and so will be ignored when e.g. forecasting.\n",
      "  self._init_dates(dates, freq)\n",
      "C:\\Users\\Sanchit\\AppData\\Local\\pypoetry\\Cache\\virtualenvs\\sih2-Xq_45JKi-py3.13\\Lib\\site-packages\\statsmodels\\tsa\\base\\tsa_model.py:473: ValueWarning: A date index has been provided, but it has no associated frequency information and so will be ignored when e.g. forecasting.\n",
      "  self._init_dates(dates, freq)\n",
      "C:\\Users\\Sanchit\\AppData\\Local\\pypoetry\\Cache\\virtualenvs\\sih2-Xq_45JKi-py3.13\\Lib\\site-packages\\statsmodels\\base\\model.py:607: ConvergenceWarning: Maximum Likelihood optimization failed to converge. Check mle_retvals\n",
      "  warnings.warn(\"Maximum Likelihood optimization failed to \"\n",
      "C:\\Users\\Sanchit\\AppData\\Local\\pypoetry\\Cache\\virtualenvs\\sih2-Xq_45JKi-py3.13\\Lib\\site-packages\\statsmodels\\tsa\\base\\tsa_model.py:837: ValueWarning: No supported index is available. Prediction results will be given with an integer index beginning at `start`.\n",
      "  return get_prediction_index(\n",
      "C:\\Users\\Sanchit\\AppData\\Local\\pypoetry\\Cache\\virtualenvs\\sih2-Xq_45JKi-py3.13\\Lib\\site-packages\\statsmodels\\tsa\\base\\tsa_model.py:837: FutureWarning: No supported index is available. In the next version, calling this method in a model without a supported index will result in an exception.\n",
      "  return get_prediction_index(\n"
     ]
    },
    {
     "name": "stdout",
     "output_type": "stream",
     "text": [
      "done with one column\n"
     ]
    },
    {
     "name": "stderr",
     "output_type": "stream",
     "text": [
      "C:\\Users\\Sanchit\\AppData\\Local\\pypoetry\\Cache\\virtualenvs\\sih2-Xq_45JKi-py3.13\\Lib\\site-packages\\statsmodels\\tsa\\base\\tsa_model.py:473: ValueWarning: A date index has been provided, but it has no associated frequency information and so will be ignored when e.g. forecasting.\n",
      "  self._init_dates(dates, freq)\n",
      "C:\\Users\\Sanchit\\AppData\\Local\\pypoetry\\Cache\\virtualenvs\\sih2-Xq_45JKi-py3.13\\Lib\\site-packages\\statsmodels\\tsa\\base\\tsa_model.py:473: ValueWarning: A date index has been provided, but it has no associated frequency information and so will be ignored when e.g. forecasting.\n",
      "  self._init_dates(dates, freq)\n",
      "C:\\Users\\Sanchit\\AppData\\Local\\pypoetry\\Cache\\virtualenvs\\sih2-Xq_45JKi-py3.13\\Lib\\site-packages\\statsmodels\\tsa\\base\\tsa_model.py:837: ValueWarning: No supported index is available. Prediction results will be given with an integer index beginning at `start`.\n",
      "  return get_prediction_index(\n",
      "C:\\Users\\Sanchit\\AppData\\Local\\pypoetry\\Cache\\virtualenvs\\sih2-Xq_45JKi-py3.13\\Lib\\site-packages\\statsmodels\\tsa\\base\\tsa_model.py:837: FutureWarning: No supported index is available. In the next version, calling this method in a model without a supported index will result in an exception.\n",
      "  return get_prediction_index(\n"
     ]
    },
    {
     "ename": "MemoryError",
     "evalue": "Unable to allocate 1.84 GiB for an array with shape (75, 75, 43950) and data type float64",
     "output_type": "error",
     "traceback": [
      "\u001B[1;31m---------------------------------------------------------------------------\u001B[0m",
      "\u001B[1;31mMemoryError\u001B[0m                               Traceback (most recent call last)",
      "Cell \u001B[1;32mIn[9], line 11\u001B[0m\n\u001B[0;32m      7\u001B[0m     \u001B[38;5;28;01mcontinue\u001B[39;00m\n\u001B[0;32m      9\u001B[0m \u001B[38;5;66;03m# Fit and forecast SARIMA model\u001B[39;00m\n\u001B[0;32m     10\u001B[0m \u001B[38;5;66;03m# Adjust orders after exploration (p,d,q,P,D,Q,m)\u001B[39;00m\n\u001B[1;32m---> 11\u001B[0m forecast \u001B[38;5;241m=\u001B[39m \u001B[43mfit_and_forecast_sarima\u001B[49m\u001B[43m(\u001B[49m\u001B[43mtrain_series\u001B[49m\u001B[43m,\u001B[49m\u001B[43m \u001B[49m\u001B[43mtest_series\u001B[49m\u001B[43m,\u001B[49m\u001B[43m \u001B[49m\u001B[43morder\u001B[49m\u001B[38;5;241;43m=\u001B[39;49m\u001B[43m(\u001B[49m\u001B[38;5;241;43m1\u001B[39;49m\u001B[43m,\u001B[49m\u001B[38;5;241;43m1\u001B[39;49m\u001B[43m,\u001B[49m\u001B[38;5;241;43m1\u001B[39;49m\u001B[43m)\u001B[49m\u001B[43m,\u001B[49m\u001B[43m \u001B[49m\u001B[43mseasonal_order\u001B[49m\u001B[38;5;241;43m=\u001B[39;49m\u001B[43m(\u001B[49m\u001B[38;5;241;43m0\u001B[39;49m\u001B[43m,\u001B[49m\u001B[38;5;241;43m1\u001B[39;49m\u001B[43m,\u001B[49m\u001B[38;5;241;43m5\u001B[39;49m\u001B[43m,\u001B[49m\u001B[38;5;241;43m12\u001B[39;49m\u001B[43m)\u001B[49m\u001B[43m)\u001B[49m\n\u001B[0;32m     12\u001B[0m \u001B[38;5;28mprint\u001B[39m(\u001B[38;5;124m\"\u001B[39m\u001B[38;5;124mdone with one column\u001B[39m\u001B[38;5;124m\"\u001B[39m)\n\u001B[0;32m     13\u001B[0m \u001B[38;5;66;03m# Store results\u001B[39;00m\n",
      "Cell \u001B[1;32mIn[6], line 10\u001B[0m, in \u001B[0;36mfit_and_forecast_sarima\u001B[1;34m(train_series, test_series, order, seasonal_order)\u001B[0m\n\u001B[0;32m      8\u001B[0m \u001B[38;5;66;03m# Forecast the length of the test period\u001B[39;00m\n\u001B[0;32m      9\u001B[0m forecast_steps \u001B[38;5;241m=\u001B[39m \u001B[38;5;28mlen\u001B[39m(test_series)\n\u001B[1;32m---> 10\u001B[0m forecast \u001B[38;5;241m=\u001B[39m \u001B[43mmodel_fit\u001B[49m\u001B[38;5;241;43m.\u001B[39;49m\u001B[43mforecast\u001B[49m\u001B[43m(\u001B[49m\u001B[43msteps\u001B[49m\u001B[38;5;241;43m=\u001B[39;49m\u001B[43mforecast_steps\u001B[49m\u001B[43m)\u001B[49m\n\u001B[0;32m     11\u001B[0m forecast\u001B[38;5;241m.\u001B[39mindex \u001B[38;5;241m=\u001B[39m test_series\u001B[38;5;241m.\u001B[39mindex  \u001B[38;5;66;03m# Align forecast index with test_series\u001B[39;00m\n\u001B[0;32m     12\u001B[0m \u001B[38;5;28;01mreturn\u001B[39;00m forecast\n",
      "File \u001B[1;32m~\\AppData\\Local\\pypoetry\\Cache\\virtualenvs\\sih2-Xq_45JKi-py3.13\\Lib\\site-packages\\statsmodels\\base\\wrapper.py:113\u001B[0m, in \u001B[0;36mmake_wrapper.<locals>.wrapper\u001B[1;34m(self, *args, **kwargs)\u001B[0m\n\u001B[0;32m    111\u001B[0m     obj \u001B[38;5;241m=\u001B[39m data\u001B[38;5;241m.\u001B[39mwrap_output(func(results, \u001B[38;5;241m*\u001B[39margs, \u001B[38;5;241m*\u001B[39m\u001B[38;5;241m*\u001B[39mkwargs), how[\u001B[38;5;241m0\u001B[39m], how[\u001B[38;5;241m1\u001B[39m:])\n\u001B[0;32m    112\u001B[0m \u001B[38;5;28;01melif\u001B[39;00m how:\n\u001B[1;32m--> 113\u001B[0m     obj \u001B[38;5;241m=\u001B[39m data\u001B[38;5;241m.\u001B[39mwrap_output(\u001B[43mfunc\u001B[49m\u001B[43m(\u001B[49m\u001B[43mresults\u001B[49m\u001B[43m,\u001B[49m\u001B[43m \u001B[49m\u001B[38;5;241;43m*\u001B[39;49m\u001B[43margs\u001B[49m\u001B[43m,\u001B[49m\u001B[43m \u001B[49m\u001B[38;5;241;43m*\u001B[39;49m\u001B[38;5;241;43m*\u001B[39;49m\u001B[43mkwargs\u001B[49m\u001B[43m)\u001B[49m, how)\n\u001B[0;32m    114\u001B[0m \u001B[38;5;28;01mreturn\u001B[39;00m obj\n",
      "File \u001B[1;32m~\\AppData\\Local\\pypoetry\\Cache\\virtualenvs\\sih2-Xq_45JKi-py3.13\\Lib\\site-packages\\statsmodels\\tsa\\statespace\\mlemodel.py:3538\u001B[0m, in \u001B[0;36mMLEResults.forecast\u001B[1;34m(self, steps, signal_only, **kwargs)\u001B[0m\n\u001B[0;32m   3536\u001B[0m \u001B[38;5;28;01melse\u001B[39;00m:\n\u001B[0;32m   3537\u001B[0m     end \u001B[38;5;241m=\u001B[39m steps\n\u001B[1;32m-> 3538\u001B[0m \u001B[38;5;28;01mreturn\u001B[39;00m \u001B[38;5;28;43mself\u001B[39;49m\u001B[38;5;241;43m.\u001B[39;49m\u001B[43mpredict\u001B[49m\u001B[43m(\u001B[49m\u001B[43mstart\u001B[49m\u001B[38;5;241;43m=\u001B[39;49m\u001B[38;5;28;43mself\u001B[39;49m\u001B[38;5;241;43m.\u001B[39;49m\u001B[43mnobs\u001B[49m\u001B[43m,\u001B[49m\u001B[43m \u001B[49m\u001B[43mend\u001B[49m\u001B[38;5;241;43m=\u001B[39;49m\u001B[43mend\u001B[49m\u001B[43m,\u001B[49m\u001B[43m \u001B[49m\u001B[43msignal_only\u001B[49m\u001B[38;5;241;43m=\u001B[39;49m\u001B[43msignal_only\u001B[49m\u001B[43m,\u001B[49m\n\u001B[0;32m   3539\u001B[0m \u001B[43m                    \u001B[49m\u001B[38;5;241;43m*\u001B[39;49m\u001B[38;5;241;43m*\u001B[39;49m\u001B[43mkwargs\u001B[49m\u001B[43m)\u001B[49m\n",
      "File \u001B[1;32m~\\AppData\\Local\\pypoetry\\Cache\\virtualenvs\\sih2-Xq_45JKi-py3.13\\Lib\\site-packages\\statsmodels\\tsa\\statespace\\mlemodel.py:3488\u001B[0m, in \u001B[0;36mMLEResults.predict\u001B[1;34m(self, start, end, dynamic, information_set, signal_only, **kwargs)\u001B[0m\n\u001B[0;32m   3423\u001B[0m \u001B[38;5;250m\u001B[39m\u001B[38;5;124mr\u001B[39m\u001B[38;5;124;03m\"\"\"\u001B[39;00m\n\u001B[0;32m   3424\u001B[0m \u001B[38;5;124;03mIn-sample prediction and out-of-sample forecasting\u001B[39;00m\n\u001B[0;32m   3425\u001B[0m \n\u001B[1;32m   (...)\u001B[0m\n\u001B[0;32m   3485\u001B[0m \u001B[38;5;124;03m    including confidence intervals.\u001B[39;00m\n\u001B[0;32m   3486\u001B[0m \u001B[38;5;124;03m\"\"\"\u001B[39;00m\n\u001B[0;32m   3487\u001B[0m \u001B[38;5;66;03m# Perform the prediction\u001B[39;00m\n\u001B[1;32m-> 3488\u001B[0m prediction_results \u001B[38;5;241m=\u001B[39m \u001B[38;5;28;43mself\u001B[39;49m\u001B[38;5;241;43m.\u001B[39;49m\u001B[43mget_prediction\u001B[49m\u001B[43m(\u001B[49m\n\u001B[0;32m   3489\u001B[0m \u001B[43m    \u001B[49m\u001B[43mstart\u001B[49m\u001B[43m,\u001B[49m\u001B[43m \u001B[49m\u001B[43mend\u001B[49m\u001B[43m,\u001B[49m\u001B[43m \u001B[49m\u001B[43mdynamic\u001B[49m\u001B[43m,\u001B[49m\u001B[43m \u001B[49m\u001B[43minformation_set\u001B[49m\u001B[38;5;241;43m=\u001B[39;49m\u001B[43minformation_set\u001B[49m\u001B[43m,\u001B[49m\n\u001B[0;32m   3490\u001B[0m \u001B[43m    \u001B[49m\u001B[43msignal_only\u001B[49m\u001B[38;5;241;43m=\u001B[39;49m\u001B[43msignal_only\u001B[49m\u001B[43m,\u001B[49m\u001B[43m \u001B[49m\u001B[38;5;241;43m*\u001B[39;49m\u001B[38;5;241;43m*\u001B[39;49m\u001B[43mkwargs\u001B[49m\u001B[43m)\u001B[49m\n\u001B[0;32m   3491\u001B[0m \u001B[38;5;28;01mreturn\u001B[39;00m prediction_results\u001B[38;5;241m.\u001B[39mpredicted_mean\n",
      "File \u001B[1;32m~\\AppData\\Local\\pypoetry\\Cache\\virtualenvs\\sih2-Xq_45JKi-py3.13\\Lib\\site-packages\\statsmodels\\tsa\\statespace\\mlemodel.py:3366\u001B[0m, in \u001B[0;36mMLEResults.get_prediction\u001B[1;34m(self, start, end, dynamic, information_set, signal_only, index, exog, extend_model, extend_kwargs, **kwargs)\u001B[0m\n\u001B[0;32m   3361\u001B[0m \u001B[38;5;28mself\u001B[39m\u001B[38;5;241m.\u001B[39mmodel\u001B[38;5;241m.\u001B[39mupdate(\u001B[38;5;28mself\u001B[39m\u001B[38;5;241m.\u001B[39mparams, transformed\u001B[38;5;241m=\u001B[39m\u001B[38;5;28;01mTrue\u001B[39;00m, includes_fixed\u001B[38;5;241m=\u001B[39m\u001B[38;5;28;01mTrue\u001B[39;00m)\n\u001B[0;32m   3363\u001B[0m \u001B[38;5;66;03m# Perform the prediction\u001B[39;00m\n\u001B[0;32m   3364\u001B[0m \u001B[38;5;66;03m# This is a (k_endog x npredictions) array; do not want to squeeze in\u001B[39;00m\n\u001B[0;32m   3365\u001B[0m \u001B[38;5;66;03m# case of npredictions = 1\u001B[39;00m\n\u001B[1;32m-> 3366\u001B[0m prediction_results \u001B[38;5;241m=\u001B[39m \u001B[38;5;28;43mself\u001B[39;49m\u001B[38;5;241;43m.\u001B[39;49m\u001B[43mfilter_results\u001B[49m\u001B[38;5;241;43m.\u001B[39;49m\u001B[43mpredict\u001B[49m\u001B[43m(\u001B[49m\n\u001B[0;32m   3367\u001B[0m \u001B[43m    \u001B[49m\u001B[43mstart\u001B[49m\u001B[43m,\u001B[49m\u001B[43m \u001B[49m\u001B[43mend\u001B[49m\u001B[43m \u001B[49m\u001B[38;5;241;43m+\u001B[39;49m\u001B[43m \u001B[49m\u001B[43mout_of_sample\u001B[49m\u001B[43m \u001B[49m\u001B[38;5;241;43m+\u001B[39;49m\u001B[43m \u001B[49m\u001B[38;5;241;43m1\u001B[39;49m\u001B[43m,\u001B[49m\u001B[43m \u001B[49m\u001B[43mdynamic\u001B[49m\u001B[43m,\u001B[49m\u001B[43m \u001B[49m\u001B[38;5;241;43m*\u001B[39;49m\u001B[38;5;241;43m*\u001B[39;49m\u001B[43mkwargs\u001B[49m\u001B[43m)\u001B[49m\n\u001B[0;32m   3369\u001B[0m \u001B[38;5;66;03m# Return a new mlemodel.PredictionResults object\u001B[39;00m\n\u001B[0;32m   3370\u001B[0m \u001B[38;5;28;01mreturn\u001B[39;00m PredictionResultsWrapper(PredictionResults(\n\u001B[0;32m   3371\u001B[0m     \u001B[38;5;28mself\u001B[39m, prediction_results, information_set\u001B[38;5;241m=\u001B[39minformation_set,\n\u001B[0;32m   3372\u001B[0m     signal_only\u001B[38;5;241m=\u001B[39msignal_only, row_labels\u001B[38;5;241m=\u001B[39mprediction_index))\n",
      "File \u001B[1;32m~\\AppData\\Local\\pypoetry\\Cache\\virtualenvs\\sih2-Xq_45JKi-py3.13\\Lib\\site-packages\\statsmodels\\tsa\\statespace\\kalman_filter.py:2096\u001B[0m, in \u001B[0;36mFilterResults.predict\u001B[1;34m(self, start, end, dynamic, **kwargs)\u001B[0m\n\u001B[0;32m   2093\u001B[0m         model\u001B[38;5;241m.\u001B[39mendog[:, \u001B[38;5;241m-\u001B[39m(ndynamic \u001B[38;5;241m+\u001B[39m nforecast):] \u001B[38;5;241m=\u001B[39m np\u001B[38;5;241m.\u001B[39mnan\n\u001B[0;32m   2095\u001B[0m     \u001B[38;5;28;01mwith\u001B[39;00m model\u001B[38;5;241m.\u001B[39mfixed_scale(\u001B[38;5;28mself\u001B[39m\u001B[38;5;241m.\u001B[39mscale):\n\u001B[1;32m-> 2096\u001B[0m         oos_results \u001B[38;5;241m=\u001B[39m \u001B[43mmodel\u001B[49m\u001B[38;5;241;43m.\u001B[39;49m\u001B[43mfilter\u001B[49m\u001B[43m(\u001B[49m\u001B[43m)\u001B[49m\n\u001B[0;32m   2098\u001B[0m     results \u001B[38;5;241m=\u001B[39m \u001B[38;5;28mself\u001B[39m\n\u001B[0;32m   2100\u001B[0m \u001B[38;5;28;01mreturn\u001B[39;00m PredictionResults(results, start, end, nstatic, ndynamic,\n\u001B[0;32m   2101\u001B[0m                          nforecast, oos_results\u001B[38;5;241m=\u001B[39moos_results)\n",
      "File \u001B[1;32m~\\AppData\\Local\\pypoetry\\Cache\\virtualenvs\\sih2-Xq_45JKi-py3.13\\Lib\\site-packages\\statsmodels\\tsa\\statespace\\kalman_filter.py:977\u001B[0m, in \u001B[0;36mKalmanFilter.filter\u001B[1;34m(self, filter_method, inversion_method, stability_method, conserve_memory, filter_timing, tolerance, loglikelihood_burn, complex_step)\u001B[0m\n\u001B[0;32m    975\u001B[0m results \u001B[38;5;241m=\u001B[39m \u001B[38;5;28mself\u001B[39m\u001B[38;5;241m.\u001B[39mresults_class(\u001B[38;5;28mself\u001B[39m)\n\u001B[0;32m    976\u001B[0m results\u001B[38;5;241m.\u001B[39mupdate_representation(\u001B[38;5;28mself\u001B[39m)\n\u001B[1;32m--> 977\u001B[0m \u001B[43mresults\u001B[49m\u001B[38;5;241;43m.\u001B[39;49m\u001B[43mupdate_filter\u001B[49m\u001B[43m(\u001B[49m\u001B[43mkfilter\u001B[49m\u001B[43m)\u001B[49m\n\u001B[0;32m    979\u001B[0m \u001B[38;5;66;03m# Resent memory conservation\u001B[39;00m\n\u001B[0;32m    980\u001B[0m \u001B[38;5;28mself\u001B[39m\u001B[38;5;241m.\u001B[39mset_conserve_memory(conserve_memory_cache)\n",
      "File \u001B[1;32m~\\AppData\\Local\\pypoetry\\Cache\\virtualenvs\\sih2-Xq_45JKi-py3.13\\Lib\\site-packages\\statsmodels\\tsa\\statespace\\kalman_filter.py:1545\u001B[0m, in \u001B[0;36mFilterResults.update_filter\u001B[1;34m(self, kalman_filter)\u001B[0m\n\u001B[0;32m   1539\u001B[0m \u001B[38;5;28mself\u001B[39m\u001B[38;5;241m.\u001B[39mfiltered_state_cov \u001B[38;5;241m=\u001B[39m np\u001B[38;5;241m.\u001B[39marray(\n\u001B[0;32m   1540\u001B[0m     kalman_filter\u001B[38;5;241m.\u001B[39mfiltered_state_cov, copy\u001B[38;5;241m=\u001B[39m\u001B[38;5;28;01mTrue\u001B[39;00m\n\u001B[0;32m   1541\u001B[0m )\n\u001B[0;32m   1542\u001B[0m \u001B[38;5;28mself\u001B[39m\u001B[38;5;241m.\u001B[39mpredicted_state \u001B[38;5;241m=\u001B[39m np\u001B[38;5;241m.\u001B[39marray(\n\u001B[0;32m   1543\u001B[0m     kalman_filter\u001B[38;5;241m.\u001B[39mpredicted_state, copy\u001B[38;5;241m=\u001B[39m\u001B[38;5;28;01mTrue\u001B[39;00m\n\u001B[0;32m   1544\u001B[0m )\n\u001B[1;32m-> 1545\u001B[0m \u001B[38;5;28mself\u001B[39m\u001B[38;5;241m.\u001B[39mpredicted_state_cov \u001B[38;5;241m=\u001B[39m \u001B[43mnp\u001B[49m\u001B[38;5;241;43m.\u001B[39;49m\u001B[43marray\u001B[49m\u001B[43m(\u001B[49m\n\u001B[0;32m   1546\u001B[0m \u001B[43m    \u001B[49m\u001B[43mkalman_filter\u001B[49m\u001B[38;5;241;43m.\u001B[39;49m\u001B[43mpredicted_state_cov\u001B[49m\u001B[43m,\u001B[49m\u001B[43m \u001B[49m\u001B[43mcopy\u001B[49m\u001B[38;5;241;43m=\u001B[39;49m\u001B[38;5;28;43;01mTrue\u001B[39;49;00m\n\u001B[0;32m   1547\u001B[0m \u001B[43m\u001B[49m\u001B[43m)\u001B[49m\n\u001B[0;32m   1549\u001B[0m \u001B[38;5;66;03m# Reset caches\u001B[39;00m\n\u001B[0;32m   1550\u001B[0m has_missing \u001B[38;5;241m=\u001B[39m np\u001B[38;5;241m.\u001B[39msum(\u001B[38;5;28mself\u001B[39m\u001B[38;5;241m.\u001B[39mnmissing) \u001B[38;5;241m>\u001B[39m \u001B[38;5;241m0\u001B[39m\n",
      "\u001B[1;31mMemoryError\u001B[0m: Unable to allocate 1.84 GiB for an array with shape (75, 75, 43950) and data type float64"
     ]
    }
   ],
   "execution_count": 9
  },
  {
   "metadata": {},
   "cell_type": "code",
   "outputs": [],
   "execution_count": null,
   "source": [
    "def mean_absolute_error(y_true, y_pred):\n",
    "    return np.mean(np.abs(y_true - y_pred))\n",
    "\n",
    "def mean_absolute_percentage_error(y_true, y_pred):\n",
    "    return np.mean(np.abs((y_true - y_pred) / y_true)) * 100\n",
    "\n",
    "def root_mean_squared_error(y_true, y_pred):\n",
    "    return np.sqrt(np.mean((y_true - y_pred)**2))\n",
    "\n",
    "print(\"Accuracy Metrics:\")\n",
    "for col, res in results.items():\n",
    "    actual = res['actual']\n",
    "    forecast = res['forecast']\n",
    "    mae = mean_absolute_error(actual, forecast)\n",
    "    mape = mean_absolute_percentage_error(actual, forecast)\n",
    "    rmse = root_mean_squared_error(actual, forecast)\n",
    "\n",
    "    print(f\"--- {col} ---\")\n",
    "    print(f\"MAE:  {mae:.3f}\")\n",
    "    print(f\"MAPE: {mape:.3f}%\")\n",
    "    print(f\"RMSE: {rmse:.3f}\\n\")\n"
   ],
   "id": "db8d1ac23f827682"
  },
  {
   "metadata": {},
   "cell_type": "code",
   "outputs": [],
   "execution_count": null,
   "source": "",
   "id": "93f45569ad0eb4a0"
  }
 ],
 "metadata": {
  "kernelspec": {
   "name": "python3",
   "language": "python",
   "display_name": "Python 3 (ipykernel)"
  }
 },
 "nbformat": 5,
 "nbformat_minor": 9
}
