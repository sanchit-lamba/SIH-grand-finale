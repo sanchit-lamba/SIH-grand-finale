{
 "cells": [
  {
   "metadata": {},
   "cell_type": "code",
   "outputs": [],
   "execution_count": null,
   "source": [
    "CREATE OR REPLACE MODEL `project_id.dataset_id.electricity_consumption_forecast`\n",
    "OPTIONS(\n",
    "  MODEL_TYPE = 'ARIMA_PLUS',\n",
    "  TIME_SERIES_TIMESTAMP_COL = 'timestamp',\n",
    "  TIME_SERIES_DATA_COL = 'electricity_consumption',\n",
    "  AUTO_ARIMA = TRUE,\n",
    "  HOLIDAY_REGION = 'IN'\n",
    ") AS\n",
    "SELECT\n",
    "  timestamp,\n",
    "  electricity_consumption\n",
    "FROM\n",
    "  `project_id.dataset_id.electricity_consumption_data`\n",
    "WHERE\n",
    "  timestamp >= '2020-01-01' AND timestamp <= '2023-12-31';\n"
   ],
   "id": "8fa5d67aa9b6b12"
  },
  {
   "metadata": {},
   "cell_type": "code",
   "outputs": [],
   "execution_count": null,
   "source": [
    "CREATE OR REPLACE MODEL `project_id.dataset_id.electricity_consumption_forecast`\n",
    "OPTIONS(\n",
    "  MODEL_TYPE = 'ARIMA_PLUS',\n",
    "  TIME_SERIES_TIMESTAMP_COL = 'timestamp',\n",
    "  TIME_SERIES_DATA_COL = 'electricity_consumption',\n",
    "  AUTO_ARIMA = TRUE,\n",
    "  HOLIDAY_REGION = 'US'\n",
    ") AS\n",
    "SELECT\n",
    "  timestamp,\n",
    "  electricity_consumption\n",
    "FROM\n",
    "  `project_id.dataset_id.electricity_consumption_data`\n",
    "WHERE\n",
    "  timestamp >= '2020-01-01' AND timestamp <= '2023-12-31';\n"
   ],
   "id": "7b84973a41d46253"
  }
 ],
 "metadata": {},
 "nbformat": 5,
 "nbformat_minor": 9
}
